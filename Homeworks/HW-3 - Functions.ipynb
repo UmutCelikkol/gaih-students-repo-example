{
 "cells": [
  {
   "cell_type": "code",
   "execution_count": null,
   "id": "progressive-dakota",
   "metadata": {},
   "outputs": [],
   "source": []
  },
  {
   "cell_type": "code",
   "execution_count": 14,
   "id": "entire-maintenance",
   "metadata": {},
   "outputs": [
    {
     "ename": "IndentationError",
     "evalue": "unindent does not match any outer indentation level (<tokenize>, line 12)",
     "output_type": "error",
     "traceback": [
      "\u001b[1;36m  File \u001b[1;32m\"<tokenize>\"\u001b[1;36m, line \u001b[1;32m12\u001b[0m\n\u001b[1;33m    else:\u001b[0m\n\u001b[1;37m    ^\u001b[0m\n\u001b[1;31mIndentationError\u001b[0m\u001b[1;31m:\u001b[0m unindent does not match any outer indentation level\n"
     ]
    }
   ],
   "source": [
    "\n",
    "for num in range(0,1000):\n",
    "    if num<500:\n",
    "        prime_first(num)\n",
    "    elif num>=500:\n",
    "        primt_second(num)\n",
    "\n",
    "def prime_first(n):\n",
    "    list1=[]\n",
    "    for i in range(0,n):\n",
    "            if(n%i)==0:\n",
    "                break\n",
    "        else:\n",
    "            list1.append(n)\n",
    "def prime_second(n):\n",
    "    list2=[]\n",
    "    for i in range(0,n):\n",
    "            if(n%i)==0:\n",
    "                break\n",
    "        else:\n",
    "            list2.append(n)\n",
    "\n",
    "\n",
    "# def prime_first(n):\n",
    "    for i in range(3, n):\n",
    "        if n % i == 0:\n",
    "            return False\n",
    "    return True\n",
    "\n",
    "\n",
    "\n"
   ]
  },
  {
   "cell_type": "code",
   "execution_count": null,
   "id": "angry-muslim",
   "metadata": {},
   "outputs": [],
   "source": []
  }
 ],
 "metadata": {
  "kernelspec": {
   "display_name": "Python 3",
   "language": "python",
   "name": "python3"
  },
  "language_info": {
   "codemirror_mode": {
    "name": "ipython",
    "version": 3
   },
   "file_extension": ".py",
   "mimetype": "text/x-python",
   "name": "python",
   "nbconvert_exporter": "python",
   "pygments_lexer": "ipython3",
   "version": "3.9.1"
  }
 },
 "nbformat": 4,
 "nbformat_minor": 5
}
