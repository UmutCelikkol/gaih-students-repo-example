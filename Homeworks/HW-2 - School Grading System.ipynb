{
 "cells": [
  {
   "cell_type": "code",
   "execution_count": null,
   "id": "reported-ownership",
   "metadata": {},
   "outputs": [
    {
     "name": "stdout",
     "output_type": "stream",
     "text": [
      "How many students do you plan to grade?: 2\n"
     ]
    }
   ],
   "source": [
    "students=dict()\n",
    "n =int(input(\"How many students do you plan to grade?: \"))\n",
    "for i in range(n):\n",
    "    student_name=input(\"Enter the name of the student: \")\n",
    "    scores=[]\n",
    "    for j in range(3):\n",
    "        score=float(input(\"Enter scores of the student: \"))\n",
    "        scores.append(score)\n",
    "    students[student_name]=scores\n",
    "    \n",
    "print(\"The students and their scores\",students)\n",
    "def assign_letter_grade(score): \n",
    "    if score >= 90: return \"A ...Congrats\"\n",
    "    elif score >= 80: return \"B\"\n",
    "    elif score >= 70: return \"C\"\n",
    "    elif score >= 40: return \"D\"\n",
    "    else : return \"E ...Loser..\"\n",
    "    \n",
    "\n",
    "def calculate_total_score(students): \n",
    "  # 10 % from homework \n",
    "    # 40 % from midterm\n",
    "    # 50 % from final\n",
    "    h=float(students[name][0])\n",
    "    m=float(students[name][1])\n",
    "    f=float(students[name][2])\n",
    "    t=(0.1*h+0.4*m+0.5*f)\n",
    "    return assign_letter_grade(t)\n",
    "\n",
    "name=input(\"Enter the name of the student: \")\n",
    "if name in students.keys():\n",
    "    print(calculate_total_score(students))\n",
    "else:\n",
    "    print(\"No student found\")"
   ]
  },
  {
   "cell_type": "code",
   "execution_count": null,
   "id": "tough-pepper",
   "metadata": {},
   "outputs": [],
   "source": []
  },
  {
   "cell_type": "code",
   "execution_count": null,
   "id": "manual-whole",
   "metadata": {},
   "outputs": [],
   "source": []
  }
 ],
 "metadata": {
  "kernelspec": {
   "display_name": "Python 3",
   "language": "python",
   "name": "python3"
  },
  "language_info": {
   "codemirror_mode": {
    "name": "ipython",
    "version": 3
   },
   "file_extension": ".py",
   "mimetype": "text/x-python",
   "name": "python",
   "nbconvert_exporter": "python",
   "pygments_lexer": "ipython3",
   "version": "3.9.1"
  }
 },
 "nbformat": 4,
 "nbformat_minor": 5
}
