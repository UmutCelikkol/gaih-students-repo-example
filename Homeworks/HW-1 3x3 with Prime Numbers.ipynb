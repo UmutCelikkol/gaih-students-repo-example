{
 "cells": [
  {
   "cell_type": "code",
   "execution_count": 62,
   "id": "necessary-afternoon",
   "metadata": {},
   "outputs": [
    {
     "name": "stdout",
     "output_type": "stream",
     "text": [
      "enter the lower interval: 20\n",
      "enter the upper interval: 60\n",
      "41 31 37 \n",
      "37 47 53 \n",
      "29 31 41 \n"
     ]
    }
   ],
   "source": [
    "import random\n",
    "from random import randint\n",
    "\n",
    "lower= int(input(\"enter the lower interval: \"))\n",
    "upper=int(input(\"enter the upper interval: \"))\n",
    "list1=[]\n",
    "for num in range(lower,upper+1):\n",
    "    if num>1:\n",
    "        for i in range(2,num):\n",
    "            if(num%i)==0:\n",
    "                break\n",
    "        else:\n",
    "            list1.append(num)\n",
    "\n",
    "def make_matrix(n):\n",
    "    x=list1\n",
    "    test=[[x[randint(0,len(x)-1)] if i!=j else random.choice(x) for i in range(n)] for j in range(n)]\n",
    "    for i in range(len(test)): \n",
    "        for x in test: \n",
    "            print(x[i], end =' ') \n",
    "        print() \n",
    "\n",
    "        \n",
    "make_matrix(3)\n"
   ]
  },
  {
   "cell_type": "code",
   "execution_count": null,
   "id": "retired-teaching",
   "metadata": {},
   "outputs": [],
   "source": []
  },
  {
   "cell_type": "code",
   "execution_count": null,
   "id": "hairy-garlic",
   "metadata": {},
   "outputs": [],
   "source": []
  },
  {
   "cell_type": "code",
   "execution_count": null,
   "id": "diagnostic-clause",
   "metadata": {},
   "outputs": [],
   "source": []
  }
 ],
 "metadata": {
  "kernelspec": {
   "display_name": "Python 3",
   "language": "python",
   "name": "python3"
  },
  "language_info": {
   "codemirror_mode": {
    "name": "ipython",
    "version": 3
   },
   "file_extension": ".py",
   "mimetype": "text/x-python",
   "name": "python",
   "nbconvert_exporter": "python",
   "pygments_lexer": "ipython3",
   "version": "3.9.1"
  }
 },
 "nbformat": 4,
 "nbformat_minor": 5
}
