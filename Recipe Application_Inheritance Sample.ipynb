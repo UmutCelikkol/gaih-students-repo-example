{
 "cells": [
  {
   "cell_type": "code",
   "execution_count": 23,
   "id": "arranged-three",
   "metadata": {},
   "outputs": [
    {
     "name": "stdout",
     "output_type": "stream",
     "text": [
      "Tarife göre kaşar, pişirilmiş hamur, yağ eklenerek Kaşarlı Pizza hazırlanıyor\n",
      "Kaşarlı Pizza pişiriliyor\n",
      "Tarife göre kavurma, kaşar, hamur eklenerek Kavurmalı Kaşarlı Pide hazırlanıyor\n",
      "Kavurmalı Kaşarlı Pide pişiriliyor\n"
     ]
    }
   ],
   "source": [
    "class Yemek():\n",
    "    def __init__(self,ad):\n",
    "        self.name=ad\n",
    "     \n",
    "    def hazirla(self,urunler):\n",
    "        print(\"Tarife göre {} eklenerek {} hazırlanıyor\".format(urunler,self.name))\n",
    "    def yemek_pisir(self):\n",
    "        print(self.name+\" pişiriliyor\")\n",
    "         \n",
    "    \n",
    "class Kofte(Yemek):\n",
    "    pass\n",
    "\n",
    "class Pide(Yemek):\n",
    "    pass\n",
    "\n",
    "class Pizza(Yemek):\n",
    "    pass\n",
    "\n",
    "pizza1=Pizza(\"Kaşarlı Pizza\")\n",
    "pizza1.hazirla(\"kaşar, pişirilmiş hamur, yağ\")\n",
    "pizza1.yemek_pisir()\n",
    "\n",
    "pide1=Pide(\"Kavurmalı Kaşarlı Pide\")\n",
    "pide1.hazirla(\"kavurma, kaşar, hamur\")\n",
    "pide1.yemek_pisir()"
   ]
  },
  {
   "cell_type": "code",
   "execution_count": null,
   "id": "amateur-steering",
   "metadata": {},
   "outputs": [],
   "source": []
  },
  {
   "cell_type": "code",
   "execution_count": null,
   "id": "egyptian-uncertainty",
   "metadata": {},
   "outputs": [],
   "source": []
  },
  {
   "cell_type": "code",
   "execution_count": null,
   "id": "alternative-transportation",
   "metadata": {},
   "outputs": [],
   "source": []
  }
 ],
 "metadata": {
  "kernelspec": {
   "display_name": "Python 3",
   "language": "python",
   "name": "python3"
  },
  "language_info": {
   "codemirror_mode": {
    "name": "ipython",
    "version": 3
   },
   "file_extension": ".py",
   "mimetype": "text/x-python",
   "name": "python",
   "nbconvert_exporter": "python",
   "pygments_lexer": "ipython3",
   "version": "3.9.1"
  }
 },
 "nbformat": 4,
 "nbformat_minor": 5
}
